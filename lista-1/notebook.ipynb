{
 "cells": [
  {
   "cell_type": "markdown",
   "id": "d557853c-af51-44c8-a577-535955be48a3",
   "metadata": {},
   "source": [
    "## Zadanie 1\n",
    "\n",
    "Surowa funkcja identycznościowa"
   ]
  },
  {
   "cell_type": "code",
   "execution_count": 2,
   "id": "8d3dbff0-feb9-4c98-ba97-461586a4e163",
   "metadata": {
    "vscode": {
     "languageId": "ocaml"
    }
   },
   "outputs": [
    {
     "data": {
      "text/plain": [
       "- : 'a -> 'a = <fun>\n"
      ]
     },
     "execution_count": 2,
     "metadata": {},
     "output_type": "execute_result"
    }
   ],
   "source": [
    "fun x -> x"
   ]
  },
  {
   "cell_type": "markdown",
   "id": "ce76f2ce-f8f5-4a7c-90a6-3a4045d46303",
   "metadata": {},
   "source": [
    "Napisz wyrażenie, którego wartością też jest funkcja identycznościowa, ale które ma typ `int -> int`"
   ]
  },
  {
   "cell_type": "code",
   "execution_count": 3,
   "id": "cfbabe1d",
   "metadata": {
    "vscode": {
     "languageId": "ocaml"
    }
   },
   "outputs": [
    {
     "data": {
      "text/plain": [
       "- : int -> int = <fun>\n"
      ]
     },
     "execution_count": 3,
     "metadata": {},
     "output_type": "execute_result"
    }
   ],
   "source": [
    "fun x -> x + 0"
   ]
  },
  {
   "cell_type": "markdown",
   "id": "89567873",
   "metadata": {},
   "source": [
    "`(’a -> ’b) -> (’c -> ’a) -> ’c -> ’b` :"
   ]
  },
  {
   "cell_type": "code",
   "execution_count": 4,
   "id": "8230a8e2",
   "metadata": {
    "vscode": {
     "languageId": "ocaml"
    }
   },
   "outputs": [
    {
     "data": {
      "text/plain": [
       "val compose : ('a -> 'b) -> ('c -> 'a) -> 'c -> 'b = <fun>\n"
      ]
     },
     "execution_count": 4,
     "metadata": {},
     "output_type": "execute_result"
    }
   ],
   "source": [
    "let compose outer inner = fun x -> outer (inner x)"
   ]
  },
  {
   "cell_type": "markdown",
   "id": "5fd6b9fb",
   "metadata": {},
   "source": [
    "`’a -> ’b -> ’a` :"
   ]
  },
  {
   "cell_type": "code",
   "execution_count": 5,
   "id": "d09d8442",
   "metadata": {
    "vscode": {
     "languageId": "ocaml"
    }
   },
   "outputs": [
    {
     "data": {
      "text/plain": [
       "val ignore_second : 'a -> 'b -> 'a = <fun>\n"
      ]
     },
     "execution_count": 5,
     "metadata": {},
     "output_type": "execute_result"
    }
   ],
   "source": [
    "let ignore_second x _ = x"
   ]
  },
  {
   "cell_type": "markdown",
   "id": "b11bdc19",
   "metadata": {},
   "source": [
    "`’a -> ’a -> ’a` :"
   ]
  },
  {
   "cell_type": "code",
   "execution_count": 6,
   "id": "7c5900e1",
   "metadata": {
    "vscode": {
     "languageId": "ocaml"
    }
   },
   "outputs": [
    {
     "data": {
      "text/plain": [
       "val first_if_equal_other_second : 'a -> 'a -> 'a = <fun>\n"
      ]
     },
     "execution_count": 6,
     "metadata": {},
     "output_type": "execute_result"
    }
   ],
   "source": [
    "let first_if_equal_other_second a b = if a = b then a else b"
   ]
  },
  {
   "cell_type": "markdown",
   "id": "de926fc2",
   "metadata": {},
   "source": [
    "Czy potrafisz napisać wyrażenie typu ’a?"
   ]
  },
  {
   "cell_type": "code",
   "execution_count": 7,
   "id": "03ee4b6d",
   "metadata": {
    "vscode": {
     "languageId": "ocaml"
    }
   },
   "outputs": [
    {
     "data": {
      "text/plain": [
       "val mysterious : 'a list -> 'a = <fun>\n"
      ]
     },
     "execution_count": 7,
     "metadata": {},
     "output_type": "execute_result"
    }
   ],
   "source": [
    "let mysterious x =\n",
    "  let rec inner x = match x with [] -> inner [] | a :: t -> a in\n",
    "  inner x"
   ]
  },
  {
   "cell_type": "markdown",
   "id": "f0096165",
   "metadata": {},
   "source": [
    "## Zadanie 2\n",
    "\n",
    "Napisz funkcję typu ’a -> ’b"
   ]
  },
  {
   "cell_type": "code",
   "execution_count": 8,
   "id": "2284a660",
   "metadata": {
    "vscode": {
     "languageId": "ocaml"
    }
   },
   "outputs": [
    {
     "data": {
      "text/plain": [
       "val mysterious : 'a list -> 'a = <fun>\n"
      ]
     },
     "execution_count": 8,
     "metadata": {},
     "output_type": "execute_result"
    },
    {
     "data": {
      "text/plain": [
       "val even_more_mysterious : 'a -> 'b = <fun>\n"
      ]
     },
     "execution_count": 8,
     "metadata": {},
     "output_type": "execute_result"
    }
   ],
   "source": [
    "let mysterious x =\n",
    "  let rec inner y = match y with [] -> inner [] | a :: t -> a in\n",
    "  inner x\n",
    "\n",
    "let even_more_mysterious x = mysterious []"
   ]
  },
  {
   "cell_type": "markdown",
   "id": "c5cd6b78",
   "metadata": {},
   "source": [
    "## Zadanie 3\n",
    "\n",
    "Strumień (tj. nieskończony ciąg) elementów typu t możemy reprezentować za pomocą funkcji `s: int -> t`` w taki sposób, że wartością wyrażenia `s 0`` jest pierwszy element strumienia, wyrażenia `s 1`` — drugi itd. Używając powyższej reprezentacji zdefiniuj następujące funkcje działające na strumieniach (tam, gdzie to możliwe, funkcje te powinny być polimorficzne, tj. powinny działać na strumieniach o elementach dowolnego typu)"
   ]
  },
  {
   "cell_type": "markdown",
   "id": "90500c6f",
   "metadata": {},
   "source": [
    "- `hd`, `tl` — funkcje zwracające odpowiednio głowę i ogon strumienia;"
   ]
  },
  {
   "cell_type": "code",
   "execution_count": 9,
   "id": "bc2a47e1",
   "metadata": {
    "vscode": {
     "languageId": "ocaml"
    }
   },
   "outputs": [
    {
     "data": {
      "text/plain": [
       "val hd : (int -> 'a) -> 'a = <fun>\n"
      ]
     },
     "execution_count": 9,
     "metadata": {},
     "output_type": "execute_result"
    },
    {
     "data": {
      "text/plain": [
       "val tl : (int -> 'a) -> int -> 'a = <fun>\n"
      ]
     },
     "execution_count": 9,
     "metadata": {},
     "output_type": "execute_result"
    }
   ],
   "source": [
    "let hd stream = stream 0\n",
    "\n",
    "let tl stream index = stream (index + 1)"
   ]
  },
  {
   "cell_type": "markdown",
   "id": "120590f4-d9e6-4b1b-8ea8-a17b07e68f09",
   "metadata": {},
   "source": [
    "- `add` — funkcja, która dla zadanego strumienia tworzy nowy strumień, którego każdy element jest \n",
    "większy o zadaną stałą od odpowiadającego mu elementu oryginalnego strumieni;"
   ]
  },
  {
   "cell_type": "code",
   "execution_count": 10,
   "id": "b0e6021d-ed74-482b-a669-5da39156c5a7",
   "metadata": {
    "jp-MarkdownHeadingCollapsed": true
   },
   "outputs": [
    {
     "data": {
      "text/plain": [
       "val add : ('a -> int) -> int -> 'a -> int = <fun>\n"
      ]
     },
     "execution_count": 10,
     "metadata": {},
     "output_type": "execute_result"
    }
   ],
   "source": [
    "let add stream const index = stream index + const"
   ]
  },
  {
   "cell_type": "markdown",
   "id": "b8ef0024-0c0d-4940-b6d3-143fc2583ae3",
   "metadata": {},
   "source": [
    "- `map` - funkcja, która dla zadanego strumienia tworzy nowy strumień, którego każdy element jest wynikiem obliczenia zadanej funkcji dla argumentu będącego odpowiadającym mu elementem oryginalnego \n",
    "strumienia (tak, jak` ma`p dla list skończonych\r"
   ]
  },
  {
   "cell_type": "code",
   "execution_count": 11,
   "id": "06c296e6-8ba2-4cae-94bc-fb9a6e404057",
   "metadata": {},
   "outputs": [
    {
     "data": {
      "text/plain": [
       "val map : ('a -> 'b) -> ('b -> 'c) -> 'a -> 'c = <fun>\n"
      ]
     },
     "execution_count": 11,
     "metadata": {},
     "output_type": "execute_result"
    }
   ],
   "source": [
    "let map stream f index = f (stream index)"
   ]
  },
  {
   "cell_type": "markdown",
   "id": "77328a35-baac-4e27-8d94-ad31488ed9fe",
   "metadata": {},
   "source": [
    "- `map2` - jak wyżej, ale dla podanej funkcji dwuargumentowej i dwóch strumieni, np. `map2 (+) s1 s2` policzy sumę dwóch strumieni po współrzędnych;"
   ]
  },
  {
   "cell_type": "code",
   "execution_count": 12,
   "id": "656d86e3-a362-466d-a7d9-bd709fbaba87",
   "metadata": {},
   "outputs": [
    {
     "data": {
      "text/plain": [
       "val map2 : ('a -> 'b -> 'c) -> ('d -> 'a) -> ('d -> 'b) -> 'd -> 'c = <fun>\n"
      ]
     },
     "execution_count": 12,
     "metadata": {},
     "output_type": "execute_result"
    }
   ],
   "source": [
    "let map2 f s1 s2 index = f (s1 index) (s2 index)"
   ]
  },
  {
   "cell_type": "markdown",
   "id": "d6753ce8-4108-43db-ada3-169b22b16b2a",
   "metadata": {},
   "source": [
    "- `replace` - funkcja, która dla zadanego indeksu `n`, wartości `a` i strumienia `s` tworzy nowy strumień, w którym wszystkie wartości są takie jak w strumieniu`s`, oprócz `n`-tego elementu, który ma wartość `a`a"
   ]
  },
  {
   "cell_type": "code",
   "execution_count": 13,
   "id": "9ba633ed-8470-4bbd-88d8-9492ea1d40cb",
   "metadata": {},
   "outputs": [
    {
     "data": {
      "text/plain": [
       "val replace : 'a -> 'b -> ('a -> 'b) -> 'a -> 'b = <fun>\n"
      ]
     },
     "execution_count": 13,
     "metadata": {},
     "output_type": "execute_result"
    }
   ],
   "source": [
    "let replace n value stream index = if index = n then value else stream index"
   ]
  },
  {
   "cell_type": "markdown",
   "id": "ef8adac7-c4de-4596-a650-caa13f5adf2b",
   "metadata": {},
   "source": [
    "- `take_every` — funkcja, która dla zadanego indeksu `n` i strumienia `s` tworzy nowy strumień złożony \n",
    "z co` `n-tego elementu strumienia` `s"
   ]
  },
  {
   "cell_type": "code",
   "execution_count": 14,
   "id": "a2f90b4a-85bb-4015-a2b3-b7caa966d741",
   "metadata": {},
   "outputs": [
    {
     "data": {
      "text/plain": [
       "val take_every : int -> (int -> 'a) -> int -> 'a = <fun>\n"
      ]
     },
     "execution_count": 14,
     "metadata": {},
     "output_type": "execute_result"
    }
   ],
   "source": [
    "let take_every n s index = s (n * index)"
   ]
  },
  {
   "cell_type": "code",
   "execution_count": null,
   "id": "5d537fe9-032b-4f9e-bd5b-605f570e25a7",
   "metadata": {},
   "outputs": [],
   "source": []
  }
 ],
 "metadata": {
  "kernelspec": {
   "display_name": "OCaml default",
   "language": "OCaml",
   "name": "ocaml-jupyter-default"
  },
  "language_info": {
   "codemirror_mode": "text/x-ocaml",
   "file_extension": ".ml",
   "mimetype": "text/x-ocaml",
   "name": "OCaml",
   "nbconverter_exporter": null,
   "pygments_lexer": "OCaml",
   "version": "4.13.1"
  }
 },
 "nbformat": 4,
 "nbformat_minor": 5
}
