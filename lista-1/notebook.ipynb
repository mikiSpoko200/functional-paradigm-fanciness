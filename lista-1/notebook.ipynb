{
 "cells": [
  {
   "cell_type": "markdown",
   "id": "d557853c-af51-44c8-a577-535955be48a3",
   "metadata": {},
   "source": [
    "## Zadanie 1\n",
    "\n",
    "Surowa funkcja identycznościowa"
   ]
  },
  {
   "cell_type": "code",
   "execution_count": 3,
   "id": "8d3dbff0-feb9-4c98-ba97-461586a4e163",
   "metadata": {
    "vscode": {
     "languageId": "ocaml"
    }
   },
   "outputs": [
    {
     "data": {
      "text/plain": [
       "- : 'a -> 'a = <fun>\n"
      ]
     },
     "execution_count": 3,
     "metadata": {},
     "output_type": "execute_result"
    }
   ],
   "source": [
    "fun x -> x"
   ]
  },
  {
   "cell_type": "markdown",
   "id": "ce76f2ce-f8f5-4a7c-90a6-3a4045d46303",
   "metadata": {},
   "source": [
    "Napisz wyrażenie, którego wartością też jest funkcja identycznościowa, ale które ma typ `int -> int`"
   ]
  },
  {
   "cell_type": "code",
   "execution_count": 4,
   "id": "cfbabe1d",
   "metadata": {
    "vscode": {
     "languageId": "ocaml"
    }
   },
   "outputs": [
    {
     "data": {
      "text/plain": [
       "- : int -> int = <fun>\n"
      ]
     },
     "execution_count": 4,
     "metadata": {},
     "output_type": "execute_result"
    }
   ],
   "source": [
    "fun x -> x + 0"
   ]
  },
  {
   "cell_type": "markdown",
   "id": "89567873",
   "metadata": {},
   "source": [
    "`(’a -> ’b) -> (’c -> ’a) -> ’c -> ’b` :"
   ]
  },
  {
   "cell_type": "code",
   "execution_count": 5,
   "id": "8230a8e2",
   "metadata": {
    "vscode": {
     "languageId": "ocaml"
    }
   },
   "outputs": [
    {
     "data": {
      "text/plain": [
       "val compose : ('a -> 'b) -> ('c -> 'a) -> 'c -> 'b = <fun>\n"
      ]
     },
     "execution_count": 5,
     "metadata": {},
     "output_type": "execute_result"
    }
   ],
   "source": [
    "let compose outer inner = fun x -> outer (inner x)"
   ]
  },
  {
   "cell_type": "markdown",
   "id": "5fd6b9fb",
   "metadata": {},
   "source": [
    "`’a -> ’b -> ’a` :"
   ]
  },
  {
   "cell_type": "code",
   "execution_count": null,
   "id": "d09d8442",
   "metadata": {
    "vscode": {
     "languageId": "ocaml"
    }
   },
   "outputs": [],
   "source": [
    "let ignore_second x _ = x"
   ]
  },
  {
   "cell_type": "markdown",
   "id": "b11bdc19",
   "metadata": {},
   "source": [
    "`’a -> ’a -> ’a` :"
   ]
  },
  {
   "cell_type": "code",
   "execution_count": null,
   "id": "7c5900e1",
   "metadata": {
    "vscode": {
     "languageId": "ocaml"
    }
   },
   "outputs": [],
   "source": [
    "let first_if_equal_other_second a b = if a = b then a else b"
   ]
  },
  {
   "cell_type": "markdown",
   "id": "de926fc2",
   "metadata": {},
   "source": [
    "Czy potrafisz napisać wyrażenie typu ’a?"
   ]
  },
  {
   "cell_type": "code",
   "execution_count": null,
   "id": "03ee4b6d",
   "metadata": {
    "vscode": {
     "languageId": "ocaml"
    }
   },
   "outputs": [],
   "source": [
    "let mysterious =\n",
    "  let rec inner x = match x with [] -> inner [] | a :: t -> a in\n",
    "  inner []"
   ]
  },
  {
   "cell_type": "markdown",
   "id": "f0096165",
   "metadata": {},
   "source": [
    "## Zadanie 2\n",
    "\n",
    "Napisz funkcję typu ’a -> ’b"
   ]
  },
  {
   "cell_type": "code",
   "execution_count": null,
   "id": "2284a660",
   "metadata": {
    "vscode": {
     "languageId": "ocaml"
    }
   },
   "outputs": [],
   "source": [
    "let mysterious =\n",
    "  let rec inner x = match x with [] -> inner [] | a :: t -> a in\n",
    "  inner []\n",
    "\n",
    "let even_more_mysterious x = mysterious\n"
   ]
  }
 ],
 "metadata": {
  "kernelspec": {
   "display_name": "OCaml default",
   "language": "OCaml",
   "name": "ocaml-jupyter-default"
  },
  "language_info": {
   "codemirror_mode": "text/x-ocaml",
   "file_extension": ".ml",
   "mimetype": "text/x-ocaml",
   "name": "OCaml",
   "nbconverter_exporter": null,
   "pygments_lexer": "OCaml",
   "version": "4.13.1"
  }
 },
 "nbformat": 4,
 "nbformat_minor": 5
}
